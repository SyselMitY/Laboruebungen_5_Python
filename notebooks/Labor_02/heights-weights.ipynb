{
 "cells": [
  {
   "cell_type": "markdown",
   "metadata": {
    "collapsed": true,
    "pycharm": {
     "name": "#%% md\n"
    }
   },
   "source": [
    "## Lies `heights-weights.csv` in einen DataFrame"
   ]
  },
  {
   "cell_type": "code",
   "execution_count": 51,
   "outputs": [
    {
     "data": {
      "text/plain": "       Height     Weight     Sex\n0  179.227959  82.184853    male\n1  161.272583  72.826430  female\n2  163.369726  61.739943  female\n3  156.540166  50.427042  female\n4  155.050350  51.338797  female",
      "text/html": "<div>\n<style scoped>\n    .dataframe tbody tr th:only-of-type {\n        vertical-align: middle;\n    }\n\n    .dataframe tbody tr th {\n        vertical-align: top;\n    }\n\n    .dataframe thead th {\n        text-align: right;\n    }\n</style>\n<table border=\"1\" class=\"dataframe\">\n  <thead>\n    <tr style=\"text-align: right;\">\n      <th></th>\n      <th>Height</th>\n      <th>Weight</th>\n      <th>Sex</th>\n    </tr>\n  </thead>\n  <tbody>\n    <tr>\n      <th>0</th>\n      <td>179.227959</td>\n      <td>82.184853</td>\n      <td>male</td>\n    </tr>\n    <tr>\n      <th>1</th>\n      <td>161.272583</td>\n      <td>72.826430</td>\n      <td>female</td>\n    </tr>\n    <tr>\n      <th>2</th>\n      <td>163.369726</td>\n      <td>61.739943</td>\n      <td>female</td>\n    </tr>\n    <tr>\n      <th>3</th>\n      <td>156.540166</td>\n      <td>50.427042</td>\n      <td>female</td>\n    </tr>\n    <tr>\n      <th>4</th>\n      <td>155.050350</td>\n      <td>51.338797</td>\n      <td>female</td>\n    </tr>\n  </tbody>\n</table>\n</div>"
     },
     "execution_count": 51,
     "metadata": {},
     "output_type": "execute_result"
    }
   ],
   "source": [
    "import pandas as pd\n",
    "\n",
    "heights_weights = pd.read_csv(\"heights-weights.csv\")\n",
    "heights_weights.head()"
   ],
   "metadata": {
    "collapsed": false,
    "pycharm": {
     "name": "#%%\n"
    }
   }
  },
  {
   "cell_type": "markdown",
   "source": [
    "## Visualisiere die Verteilung von `Height` getrennt nach `Sex`"
   ],
   "metadata": {
    "collapsed": false,
    "pycharm": {
     "name": "#%% md\n"
    }
   }
  },
  {
   "cell_type": "code",
   "execution_count": 52,
   "outputs": [
    {
     "data": {
      "text/plain": "<AxesSubplot:xlabel='Height', ylabel='Density'>"
     },
     "execution_count": 52,
     "metadata": {},
     "output_type": "execute_result"
    },
    {
     "data": {
      "text/plain": "<Figure size 432x288 with 1 Axes>",
      "image/png": "[encoded data removed]"
     },
     "metadata": {
      "needs_background": "light"
     },
     "output_type": "display_data"
    }
   ],
   "source": [
    "import seaborn as sns\n",
    "\n",
    "sns.kdeplot(data=heights_weights,x=\"Height\",hue=\"Sex\")"
   ],
   "metadata": {
    "collapsed": false,
    "pycharm": {
     "name": "#%%\n"
    }
   }
  },
  {
   "cell_type": "markdown",
   "source": [
    "## Data Cleaning\n",
    "\n",
    "Entferne alle `NaN` Werte folgendermaßen:\n",
    "* entferne alle Observations, bei denen das Geschlecht unbekannt ist\n",
    "* ergänze numerische Features mit einem Mittelwert des jeweiligen Geschlechts"
   ],
   "metadata": {
    "collapsed": false
   }
  },
  {
   "cell_type": "code",
   "execution_count": 53,
   "outputs": [],
   "source": [
    "heights_weights = heights_weights.dropna(subset=[\"Sex\"])\n",
    "heights_weights[\"Weight\"] = heights_weights.groupby(\"Sex\")[\"Weight\"].apply(lambda x: x.fillna(x.mean()))\n",
    "heights_weights[\"Height\"] = heights_weights.groupby(\"Sex\")[\"Height\"].apply(lambda x: x.fillna(x.mean()))\n",
    "\n"
   ],
   "metadata": {
    "collapsed": false,
    "pycharm": {
     "name": "#%%\n"
    }
   }
  },
  {
   "cell_type": "markdown",
   "source": [
    "## Training\n",
    "\n",
    "* verwende 20% Testdaten und `random_state=42`\n",
    "* predicte `Height`. Dabei sind zwei verschiedene Vorgangsweisen zu implementieren und zu vergleichen:\n",
    "    1. mit Hilfe einer einfachen linearen Regression ist `Height` **nur** aus `Weight` zu predicten\n",
    "    2. neben `Weight` ist auch `Sex` zu verwenden."
   ],
   "metadata": {
    "collapsed": false,
    "pycharm": {
     "name": "#%% md\n"
    }
   }
  },
  {
   "cell_type": "code",
   "execution_count": 54,
   "outputs": [
    {
     "data": {
      "text/plain": "LinearRegression()"
     },
     "execution_count": 54,
     "metadata": {},
     "output_type": "execute_result"
    }
   ],
   "source": [
    "from sklearn import linear_model\n",
    "from sklearn.model_selection import train_test_split\n",
    "\n",
    "sex_dummies = pd.get_dummies(heights_weights[\"Sex\"],drop_first=True)\n",
    "heights_weights = heights_weights.drop([\"Sex\"],axis=1)\n",
    "heights_weights = pd.concat([heights_weights,sex_dummies],axis=1)\n",
    "\n",
    "X_1 = heights_weights[\"Weight\"]\n",
    "X_2 = heights_weights.drop([\"Height\"],axis=1)\n",
    "y = heights_weights[\"Height\"]\n",
    "\n",
    "# Workaround for 2d array requirement\n",
    "X_1 = X_1.values.reshape(-1,1)\n",
    "\n",
    "X_1_train, X_1_test, y_1_train, y_1_test = train_test_split(X_1, y, test_size=0.2, random_state=42)\n",
    "X_2_train, X_2_test, y_2_train, y_2_test = train_test_split(X_2, y, test_size=0.2, random_state=42)\n",
    "\n",
    "model1 = linear_model.LinearRegression()\n",
    "model1.fit(X_1_train, y_1_train)\n",
    "\n",
    "model2 = linear_model.LinearRegression()\n",
    "model2.fit(X_2_train, y_2_train)\n"
   ],
   "metadata": {
    "collapsed": false,
    "pycharm": {
     "name": "#%%\n"
    }
   }
  },
  {
   "cell_type": "markdown",
   "source": [
    "## Evaluierung (nur das Modell mit beiden Features)\n",
    "\n",
    "* Stelle die Verteilung der Fehler in einem `distplot` dar\n",
    "* Predicte deine eigenen Daten"
   ],
   "metadata": {
    "collapsed": false,
    "pycharm": {
     "name": "#%% md\n"
    }
   }
  },
  {
   "cell_type": "code",
   "execution_count": 55,
   "outputs": [
    {
     "name": "stderr",
     "output_type": "stream",
     "text": [
      "C:\\ProgramData\\Anaconda3\\lib\\site-packages\\seaborn\\distributions.py:2557: FutureWarning: `distplot` is a deprecated function and will be removed in a future version. Please adapt your code to use either `displot` (a figure-level function with similar flexibility) or `histplot` (an axes-level function for histograms).\n",
      "  warnings.warn(msg, FutureWarning)\n"
     ]
    },
    {
     "data": {
      "text/plain": "<AxesSubplot:xlabel='Height', ylabel='Density'>"
     },
     "execution_count": 55,
     "metadata": {},
     "output_type": "execute_result"
    },
    {
     "data": {
      "text/plain": "<Figure size 432x288 with 1 Axes>",
      "image/png": "[encoded data removed]"
     },
     "metadata": {
      "needs_background": "light"
     },
     "output_type": "display_data"
    }
   ],
   "source": [
    "import seaborn as sns\n",
    "fehler = y_2_test - model2.predict(X_2_test)\n",
    "sns.distplot(fehler)"
   ],
   "metadata": {
    "collapsed": false,
    "pycharm": {
     "name": "#%%\n"
    }
   }
  },
  {
   "cell_type": "code",
   "execution_count": 61,
   "outputs": [
    {
     "data": {
      "text/plain": "array([156.98348419])"
     },
     "execution_count": 61,
     "metadata": {},
     "output_type": "execute_result"
    }
   ],
   "source": [
    "model2.predict([[58.0,1.0]])"
   ],
   "metadata": {
    "collapsed": false,
    "pycharm": {
     "name": "#%%\n"
    }
   }
  }
 ],
 "metadata": {
  "kernelspec": {
   "display_name": "Python 3",
   "language": "python",
   "name": "python3"
  },
  "language_info": {
   "codemirror_mode": {
    "name": "ipython",
    "version": 2
   },
   "file_extension": ".py",
   "mimetype": "text/x-python",
   "name": "python",
   "nbconvert_exporter": "python",
   "pygments_lexer": "ipython2",
   "version": "2.7.6"
  }
 },
 "nbformat": 4,
 "nbformat_minor": 0
}