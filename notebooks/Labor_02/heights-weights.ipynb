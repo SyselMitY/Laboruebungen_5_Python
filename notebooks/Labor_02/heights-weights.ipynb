{
 "cells": [
  {
   "cell_type": "markdown",
   "metadata": {
    "collapsed": true,
    "pycharm": {
     "name": "#%% md\n"
    }
   },
   "source": [
    "## Lies `heights-weights.csv` in einen DataFrame"
   ]
  },
  {
   "cell_type": "markdown",
   "source": [
    "## Visualisiere die Verteilung von `Height` getrennt nach `Sex`"
   ],
   "metadata": {
    "collapsed": false,
    "pycharm": {
     "name": "#%% md\n"
    }
   }
  },
  {
   "cell_type": "markdown",
   "source": [
    "## Data Cleaning\n",
    "\n",
    "Entferne alle `NaN` Werte folgendermaßen:\n",
    "* entferne alle Observations, bei denen das Geschlecht unbekannt ist\n",
    "* ergänze numerische Features mit einem Mittelwert des jeweiligen Geschlechts"
   ],
   "metadata": {
    "collapsed": false
   }
  },
  {
   "cell_type": "markdown",
   "source": [
    "## Training\n",
    "\n",
    "* verwende 20% Testdaten und `random_state=42`\n",
    "* predicte `Height`. Dabei sind zwei verschiedene Vorgangsweisen zu implementieren und zu vergleichen:\n",
    "    1. mit Hilfe einer einfachen linearen Regression ist `Height` **nur** aus `Weight` zu predicten\n",
    "    2. neben `Weight` ist auch `Sex` zu verwenden."
   ],
   "metadata": {
    "collapsed": false,
    "pycharm": {
     "name": "#%% md\n"
    }
   }
  },
  {
   "cell_type": "markdown",
   "source": [
    "## Evaluierung (nur das Modell mit beiden Features)\n",
    "\n",
    "* Stelle die Verteilung der Fehler in einem `distplot` dar\n",
    "* Predicte deine eigenen Daten"
   ],
   "metadata": {
    "collapsed": false,
    "pycharm": {
     "name": "#%% md\n"
    }
   }
  }
 ],
 "metadata": {
  "kernelspec": {
   "display_name": "Python 3",
   "language": "python",
   "name": "python3"
  },
  "language_info": {
   "codemirror_mode": {
    "name": "ipython",
    "version": 2
   },
   "file_extension": ".py",
   "mimetype": "text/x-python",
   "name": "python",
   "nbconvert_exporter": "python",
   "pygments_lexer": "ipython2",
   "version": "2.7.6"
  }
 },
 "nbformat": 4,
 "nbformat_minor": 0
}