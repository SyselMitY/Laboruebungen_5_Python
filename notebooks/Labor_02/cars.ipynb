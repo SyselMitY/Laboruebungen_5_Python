{
 "cells": [
  {
   "cell_type": "markdown",
   "metadata": {
    "collapsed": true,
    "pycharm": {
     "name": "#%% md\n"
    }
   },
   "source": [
    "## Lies `cars.csv` in einen DataFrame"
   ]
  },
  {
   "cell_type": "code",
   "execution_count": 2,
   "outputs": [
    {
     "data": {
      "text/plain": "              price  yearOfRegistration     powerPS     kilometer\ncount    250.000000          250.000000  250.000000     250.00000\nmean    8553.384000         2006.448000  118.068000   84520.00000\nstd     7832.009205            7.103883   49.183202   38265.21274\nmin        0.000000         1974.000000   41.000000    5000.00000\n25%     2820.000000         2002.000000   75.250000   60000.00000\n50%     5900.000000         2008.000000  109.000000   90000.00000\n75%    12000.000000         2011.000000  150.000000  125000.00000\nmax    44000.000000         2018.000000  280.000000  125000.00000",
      "text/html": "<div>\n<style scoped>\n    .dataframe tbody tr th:only-of-type {\n        vertical-align: middle;\n    }\n\n    .dataframe tbody tr th {\n        vertical-align: top;\n    }\n\n    .dataframe thead th {\n        text-align: right;\n    }\n</style>\n<table border=\"1\" class=\"dataframe\">\n  <thead>\n    <tr style=\"text-align: right;\">\n      <th></th>\n      <th>price</th>\n      <th>yearOfRegistration</th>\n      <th>powerPS</th>\n      <th>kilometer</th>\n    </tr>\n  </thead>\n  <tbody>\n    <tr>\n      <th>count</th>\n      <td>250.000000</td>\n      <td>250.000000</td>\n      <td>250.000000</td>\n      <td>250.00000</td>\n    </tr>\n    <tr>\n      <th>mean</th>\n      <td>8553.384000</td>\n      <td>2006.448000</td>\n      <td>118.068000</td>\n      <td>84520.00000</td>\n    </tr>\n    <tr>\n      <th>std</th>\n      <td>7832.009205</td>\n      <td>7.103883</td>\n      <td>49.183202</td>\n      <td>38265.21274</td>\n    </tr>\n    <tr>\n      <th>min</th>\n      <td>0.000000</td>\n      <td>1974.000000</td>\n      <td>41.000000</td>\n      <td>5000.00000</td>\n    </tr>\n    <tr>\n      <th>25%</th>\n      <td>2820.000000</td>\n      <td>2002.000000</td>\n      <td>75.250000</td>\n      <td>60000.00000</td>\n    </tr>\n    <tr>\n      <th>50%</th>\n      <td>5900.000000</td>\n      <td>2008.000000</td>\n      <td>109.000000</td>\n      <td>90000.00000</td>\n    </tr>\n    <tr>\n      <th>75%</th>\n      <td>12000.000000</td>\n      <td>2011.000000</td>\n      <td>150.000000</td>\n      <td>125000.00000</td>\n    </tr>\n    <tr>\n      <th>max</th>\n      <td>44000.000000</td>\n      <td>2018.000000</td>\n      <td>280.000000</td>\n      <td>125000.00000</td>\n    </tr>\n  </tbody>\n</table>\n</div>"
     },
     "execution_count": 2,
     "metadata": {},
     "output_type": "execute_result"
    }
   ],
   "source": [
    "import pandas as pd\n",
    "\n",
    "cars = pd.read_csv('cars.csv')\n",
    "cars.describe()"
   ],
   "metadata": {
    "collapsed": false,
    "pycharm": {
     "name": "#%%\n"
    }
   }
  },
  {
   "cell_type": "markdown",
   "source": [
    "## Data Cleaning\n",
    "\n",
    "* entferne die Features `model` und `name`\n",
    "* entferne Observations mit `NaN`-Einträgen\n",
    "* entferne Observations, deren `fuelType` nicht `benzin` oder `diesel` ist\n",
    "* Führe ein One-Hot-Encoding für `fuelType` durch"
   ],
   "metadata": {
    "collapsed": false,
    "pycharm": {
     "name": "#%% md\n"
    }
   }
  },
  {
   "cell_type": "code",
   "execution_count": 3,
   "outputs": [
    {
     "data": {
      "text/plain": "   price  yearOfRegistration  powerPS  kilometer  diesel\n0   1450                1997       75      90000       0\n1  13100                2005      280       5000       0\n2   4500                2008       87      90000       0\n3   6000                2009      177     125000       1\n4   3990                1999      118      90000       0",
      "text/html": "<div>\n<style scoped>\n    .dataframe tbody tr th:only-of-type {\n        vertical-align: middle;\n    }\n\n    .dataframe tbody tr th {\n        vertical-align: top;\n    }\n\n    .dataframe thead th {\n        text-align: right;\n    }\n</style>\n<table border=\"1\" class=\"dataframe\">\n  <thead>\n    <tr style=\"text-align: right;\">\n      <th></th>\n      <th>price</th>\n      <th>yearOfRegistration</th>\n      <th>powerPS</th>\n      <th>kilometer</th>\n      <th>diesel</th>\n    </tr>\n  </thead>\n  <tbody>\n    <tr>\n      <th>0</th>\n      <td>1450</td>\n      <td>1997</td>\n      <td>75</td>\n      <td>90000</td>\n      <td>0</td>\n    </tr>\n    <tr>\n      <th>1</th>\n      <td>13100</td>\n      <td>2005</td>\n      <td>280</td>\n      <td>5000</td>\n      <td>0</td>\n    </tr>\n    <tr>\n      <th>2</th>\n      <td>4500</td>\n      <td>2008</td>\n      <td>87</td>\n      <td>90000</td>\n      <td>0</td>\n    </tr>\n    <tr>\n      <th>3</th>\n      <td>6000</td>\n      <td>2009</td>\n      <td>177</td>\n      <td>125000</td>\n      <td>1</td>\n    </tr>\n    <tr>\n      <th>4</th>\n      <td>3990</td>\n      <td>1999</td>\n      <td>118</td>\n      <td>90000</td>\n      <td>0</td>\n    </tr>\n  </tbody>\n</table>\n</div>"
     },
     "execution_count": 3,
     "metadata": {},
     "output_type": "execute_result"
    }
   ],
   "source": [
    "cars = cars.drop(['model', 'name'], axis=1)\n",
    "cars = cars.dropna()\n",
    "cars = cars[cars[\"fuelType\"].isin(['benzin', 'diesel'])]\n",
    "fuelType = pd.get_dummies(cars['fuelType'], drop_first=True)\n",
    "cars = cars.drop(['fuelType'], axis=1)\n",
    "cars = pd.concat([cars, fuelType], axis=1)\n",
    "cars.head()\n"
   ],
   "metadata": {
    "collapsed": false,
    "pycharm": {
     "name": "#%%\n"
    }
   }
  },
  {
   "cell_type": "markdown",
   "source": [
    "## Training\n",
    "\n",
    "* Verwende 20% Testdaten und `random_state=42`\n",
    "* predicte `price`\n",
    "* Verwende eine LinearRegression und ermittle, welches Feature einen negativen Einfluss auf den Preis hat\n",
    "* Verwende einen RandomForestRegressor und ermittle das wichtigste Feature"
   ],
   "metadata": {
    "collapsed": false,
    "pycharm": {
     "name": "#%% md\n"
    }
   }
  },
  {
   "cell_type": "code",
   "source": [
    "from sklearn.model_selection import train_test_split\n",
    "from sklearn import linear_model\n",
    "X = cars.drop(['price'], axis=1)\n",
    "y = cars['price']\n",
    "\n",
    "X_train, X_test, y_train, y_test = train_test_split(X, y, test_size=0.2, random_state=42)"
   ],
   "metadata": {
    "collapsed": false,
    "pycharm": {
     "name": "#%%\n"
    }
   },
   "execution_count": 4,
   "outputs": []
  },
  {
   "cell_type": "code",
   "execution_count": 5,
   "outputs": [
    {
     "data": {
      "text/plain": "                    0          1          2            3\n0          131.662959  84.224383  -0.079952  4997.553764\n1  yearOfRegistration    powerPS  kilometer       diesel",
      "text/html": "<div>\n<style scoped>\n    .dataframe tbody tr th:only-of-type {\n        vertical-align: middle;\n    }\n\n    .dataframe tbody tr th {\n        vertical-align: top;\n    }\n\n    .dataframe thead th {\n        text-align: right;\n    }\n</style>\n<table border=\"1\" class=\"dataframe\">\n  <thead>\n    <tr style=\"text-align: right;\">\n      <th></th>\n      <th>0</th>\n      <th>1</th>\n      <th>2</th>\n      <th>3</th>\n    </tr>\n  </thead>\n  <tbody>\n    <tr>\n      <th>0</th>\n      <td>131.662959</td>\n      <td>84.224383</td>\n      <td>-0.079952</td>\n      <td>4997.553764</td>\n    </tr>\n    <tr>\n      <th>1</th>\n      <td>yearOfRegistration</td>\n      <td>powerPS</td>\n      <td>kilometer</td>\n      <td>diesel</td>\n    </tr>\n  </tbody>\n</table>\n</div>"
     },
     "execution_count": 5,
     "metadata": {},
     "output_type": "execute_result"
    }
   ],
   "source": [
    "priceLinReg = linear_model.LinearRegression()\n",
    "priceLinReg.fit(X_train, y_train)\n",
    "pd.DataFrame([priceLinReg.coef_, X.columns])"
   ],
   "metadata": {
    "collapsed": false,
    "pycharm": {
     "name": "#%%\n"
    }
   }
  },
  {
   "cell_type": "code",
   "execution_count": 6,
   "outputs": [
    {
     "data": {
      "text/plain": "                    0        1          2         3\n0            0.304028  0.44865   0.212051  0.035271\n1  yearOfRegistration  powerPS  kilometer    diesel",
      "text/html": "<div>\n<style scoped>\n    .dataframe tbody tr th:only-of-type {\n        vertical-align: middle;\n    }\n\n    .dataframe tbody tr th {\n        vertical-align: top;\n    }\n\n    .dataframe thead th {\n        text-align: right;\n    }\n</style>\n<table border=\"1\" class=\"dataframe\">\n  <thead>\n    <tr style=\"text-align: right;\">\n      <th></th>\n      <th>0</th>\n      <th>1</th>\n      <th>2</th>\n      <th>3</th>\n    </tr>\n  </thead>\n  <tbody>\n    <tr>\n      <th>0</th>\n      <td>0.304028</td>\n      <td>0.44865</td>\n      <td>0.212051</td>\n      <td>0.035271</td>\n    </tr>\n    <tr>\n      <th>1</th>\n      <td>yearOfRegistration</td>\n      <td>powerPS</td>\n      <td>kilometer</td>\n      <td>diesel</td>\n    </tr>\n  </tbody>\n</table>\n</div>"
     },
     "execution_count": 6,
     "metadata": {},
     "output_type": "execute_result"
    }
   ],
   "source": [
    "# RandomForestRegressor\n",
    "from sklearn.ensemble import RandomForestRegressor\n",
    "\n",
    "priceForestReg = RandomForestRegressor()\n",
    "priceForestReg.fit(X_train, y_train)\n",
    "pd.DataFrame([priceForestReg.feature_importances_,X.columns])"
   ],
   "metadata": {
    "collapsed": false,
    "pycharm": {
     "name": "#%%\n"
    }
   }
  },
  {
   "cell_type": "markdown",
   "source": [
    "## Evaluierung\n",
    "\n",
    "* Ermittle einen durschnittlichen Fehler für beide Modelle"
   ],
   "metadata": {
    "collapsed": false,
    "pycharm": {
     "name": "#%% md\n"
    }
   }
  },
  {
   "cell_type": "code",
   "execution_count": 7,
   "outputs": [
    {
     "name": "stdout",
     "output_type": "stream",
     "text": [
      "2681.997339586527\n",
      "2489.3779047619046\n"
     ]
    }
   ],
   "source": [
    "from sklearn import metrics\n",
    "print(metrics.mean_absolute_error(y_test, priceLinReg.predict(X_test)))\n",
    "print(metrics.mean_absolute_error(y_test, priceForestReg.predict(X_test)))"
   ],
   "metadata": {
    "collapsed": false,
    "pycharm": {
     "name": "#%%\n"
    }
   }
  }
 ],
 "metadata": {
  "kernelspec": {
   "display_name": "Python 3",
   "language": "python",
   "name": "python3"
  },
  "language_info": {
   "codemirror_mode": {
    "name": "ipython",
    "version": 2
   },
   "file_extension": ".py",
   "mimetype": "text/x-python",
   "name": "python",
   "nbconvert_exporter": "python",
   "pygments_lexer": "ipython2",
   "version": "2.7.6"
  }
 },
 "nbformat": 4,
 "nbformat_minor": 0
}