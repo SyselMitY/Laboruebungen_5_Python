{
 "cells": [
  {
   "cell_type": "markdown",
   "source": [
    "## Erstelle aus `lol.csv` einen DataFrame"
   ],
   "metadata": {
    "collapsed": false
   }
  },
  {
   "cell_type": "code",
   "execution_count": 2,
   "outputs": [
    {
     "data": {
      "text/plain": "             gameId     blueWins  blueWardsPlaced  blueWardsDestroyed  \\\ncount  9.879000e+03  9879.000000      9879.000000         9879.000000   \nmean   4.500084e+09     0.499038        22.288288            2.824881   \nstd    2.757328e+07     0.500024        18.019177            2.174998   \nmin    4.295358e+09     0.000000         5.000000            0.000000   \n25%    4.483301e+09     0.000000        14.000000            1.000000   \n50%    4.510920e+09     0.000000        16.000000            3.000000   \n75%    4.521733e+09     1.000000        20.000000            4.000000   \nmax    4.527991e+09     1.000000       250.000000           27.000000   \n\n       blueFirstBlood    blueKills   blueDeaths  blueAssists  \\\ncount     9879.000000  9879.000000  9879.000000  9879.000000   \nmean         0.504808     6.183925     6.137666     6.645106   \nstd          0.500002     3.011028     2.933818     4.064520   \nmin          0.000000     0.000000     0.000000     0.000000   \n25%          0.000000     4.000000     4.000000     4.000000   \n50%          1.000000     6.000000     6.000000     6.000000   \n75%          1.000000     8.000000     8.000000     9.000000   \nmax          1.000000    22.000000    22.000000    29.000000   \n\n       blueEliteMonsters  blueDragons  ...  redTowersDestroyed  redTotalGold  \\\ncount        9879.000000  9879.000000  ...         9879.000000   9879.000000   \nmean            0.549954     0.361980  ...            0.043021  16489.041401   \nstd             0.625527     0.480597  ...            0.216900   1490.888406   \nmin             0.000000     0.000000  ...            0.000000  11212.000000   \n25%             0.000000     0.000000  ...            0.000000  15427.500000   \n50%             0.000000     0.000000  ...            0.000000  16378.000000   \n75%             1.000000     1.000000  ...            0.000000  17418.500000   \nmax             2.000000     1.000000  ...            2.000000  22732.000000   \n\n       redAvgLevel  redTotalExperience  redTotalMinionsKilled  \\\ncount  9879.000000         9879.000000            9879.000000   \nmean      6.925316        17961.730438             217.349226   \nstd       0.305311         1198.583912              21.911668   \nmin       4.800000        10465.000000             107.000000   \n25%       6.800000        17209.500000             203.000000   \n50%       7.000000        17974.000000             218.000000   \n75%       7.200000        18764.500000             233.000000   \nmax       8.200000        22269.000000             289.000000   \n\n       redTotalJungleMinionsKilled   redGoldDiff  redExperienceDiff  \\\ncount                  9879.000000   9879.000000        9879.000000   \nmean                     51.313088    -14.414111          33.620306   \nstd                      10.027885   2453.349179        1920.370438   \nmin                       4.000000 -11467.000000       -8348.000000   \n25%                      44.000000  -1596.000000       -1212.000000   \n50%                      51.000000    -14.000000          28.000000   \n75%                      57.000000   1585.500000        1290.500000   \nmax                      92.000000  10830.000000        9333.000000   \n\n       redCSPerMin  redGoldPerMin  \ncount  9879.000000    9879.000000  \nmean     21.734923    1648.904140  \nstd       2.191167     149.088841  \nmin      10.700000    1121.200000  \n25%      20.300000    1542.750000  \n50%      21.800000    1637.800000  \n75%      23.300000    1741.850000  \nmax      28.900000    2273.200000  \n\n[8 rows x 40 columns]",
      "text/html": "<div>\n<style scoped>\n    .dataframe tbody tr th:only-of-type {\n        vertical-align: middle;\n    }\n\n    .dataframe tbody tr th {\n        vertical-align: top;\n    }\n\n    .dataframe thead th {\n        text-align: right;\n    }\n</style>\n<table border=\"1\" class=\"dataframe\">\n  <thead>\n    <tr style=\"text-align: right;\">\n      <th></th>\n      <th>gameId</th>\n      <th>blueWins</th>\n      <th>blueWardsPlaced</th>\n      <th>blueWardsDestroyed</th>\n      <th>blueFirstBlood</th>\n      <th>blueKills</th>\n      <th>blueDeaths</th>\n      <th>blueAssists</th>\n      <th>blueEliteMonsters</th>\n      <th>blueDragons</th>\n      <th>...</th>\n      <th>redTowersDestroyed</th>\n      <th>redTotalGold</th>\n      <th>redAvgLevel</th>\n      <th>redTotalExperience</th>\n      <th>redTotalMinionsKilled</th>\n      <th>redTotalJungleMinionsKilled</th>\n      <th>redGoldDiff</th>\n      <th>redExperienceDiff</th>\n      <th>redCSPerMin</th>\n      <th>redGoldPerMin</th>\n    </tr>\n  </thead>\n  <tbody>\n    <tr>\n      <th>count</th>\n      <td>9.879000e+03</td>\n      <td>9879.000000</td>\n      <td>9879.000000</td>\n      <td>9879.000000</td>\n      <td>9879.000000</td>\n      <td>9879.000000</td>\n      <td>9879.000000</td>\n      <td>9879.000000</td>\n      <td>9879.000000</td>\n      <td>9879.000000</td>\n      <td>...</td>\n      <td>9879.000000</td>\n      <td>9879.000000</td>\n      <td>9879.000000</td>\n      <td>9879.000000</td>\n      <td>9879.000000</td>\n      <td>9879.000000</td>\n      <td>9879.000000</td>\n      <td>9879.000000</td>\n      <td>9879.000000</td>\n      <td>9879.000000</td>\n    </tr>\n    <tr>\n      <th>mean</th>\n      <td>4.500084e+09</td>\n      <td>0.499038</td>\n      <td>22.288288</td>\n      <td>2.824881</td>\n      <td>0.504808</td>\n      <td>6.183925</td>\n      <td>6.137666</td>\n      <td>6.645106</td>\n      <td>0.549954</td>\n      <td>0.361980</td>\n      <td>...</td>\n      <td>0.043021</td>\n      <td>16489.041401</td>\n      <td>6.925316</td>\n      <td>17961.730438</td>\n      <td>217.349226</td>\n      <td>51.313088</td>\n      <td>-14.414111</td>\n      <td>33.620306</td>\n      <td>21.734923</td>\n      <td>1648.904140</td>\n    </tr>\n    <tr>\n      <th>std</th>\n      <td>2.757328e+07</td>\n      <td>0.500024</td>\n      <td>18.019177</td>\n      <td>2.174998</td>\n      <td>0.500002</td>\n      <td>3.011028</td>\n      <td>2.933818</td>\n      <td>4.064520</td>\n      <td>0.625527</td>\n      <td>0.480597</td>\n      <td>...</td>\n      <td>0.216900</td>\n      <td>1490.888406</td>\n      <td>0.305311</td>\n      <td>1198.583912</td>\n      <td>21.911668</td>\n      <td>10.027885</td>\n      <td>2453.349179</td>\n      <td>1920.370438</td>\n      <td>2.191167</td>\n      <td>149.088841</td>\n    </tr>\n    <tr>\n      <th>min</th>\n      <td>4.295358e+09</td>\n      <td>0.000000</td>\n      <td>5.000000</td>\n      <td>0.000000</td>\n      <td>0.000000</td>\n      <td>0.000000</td>\n      <td>0.000000</td>\n      <td>0.000000</td>\n      <td>0.000000</td>\n      <td>0.000000</td>\n      <td>...</td>\n      <td>0.000000</td>\n      <td>11212.000000</td>\n      <td>4.800000</td>\n      <td>10465.000000</td>\n      <td>107.000000</td>\n      <td>4.000000</td>\n      <td>-11467.000000</td>\n      <td>-8348.000000</td>\n      <td>10.700000</td>\n      <td>1121.200000</td>\n    </tr>\n    <tr>\n      <th>25%</th>\n      <td>4.483301e+09</td>\n      <td>0.000000</td>\n      <td>14.000000</td>\n      <td>1.000000</td>\n      <td>0.000000</td>\n      <td>4.000000</td>\n      <td>4.000000</td>\n      <td>4.000000</td>\n      <td>0.000000</td>\n      <td>0.000000</td>\n      <td>...</td>\n      <td>0.000000</td>\n      <td>15427.500000</td>\n      <td>6.800000</td>\n      <td>17209.500000</td>\n      <td>203.000000</td>\n      <td>44.000000</td>\n      <td>-1596.000000</td>\n      <td>-1212.000000</td>\n      <td>20.300000</td>\n      <td>1542.750000</td>\n    </tr>\n    <tr>\n      <th>50%</th>\n      <td>4.510920e+09</td>\n      <td>0.000000</td>\n      <td>16.000000</td>\n      <td>3.000000</td>\n      <td>1.000000</td>\n      <td>6.000000</td>\n      <td>6.000000</td>\n      <td>6.000000</td>\n      <td>0.000000</td>\n      <td>0.000000</td>\n      <td>...</td>\n      <td>0.000000</td>\n      <td>16378.000000</td>\n      <td>7.000000</td>\n      <td>17974.000000</td>\n      <td>218.000000</td>\n      <td>51.000000</td>\n      <td>-14.000000</td>\n      <td>28.000000</td>\n      <td>21.800000</td>\n      <td>1637.800000</td>\n    </tr>\n    <tr>\n      <th>75%</th>\n      <td>4.521733e+09</td>\n      <td>1.000000</td>\n      <td>20.000000</td>\n      <td>4.000000</td>\n      <td>1.000000</td>\n      <td>8.000000</td>\n      <td>8.000000</td>\n      <td>9.000000</td>\n      <td>1.000000</td>\n      <td>1.000000</td>\n      <td>...</td>\n      <td>0.000000</td>\n      <td>17418.500000</td>\n      <td>7.200000</td>\n      <td>18764.500000</td>\n      <td>233.000000</td>\n      <td>57.000000</td>\n      <td>1585.500000</td>\n      <td>1290.500000</td>\n      <td>23.300000</td>\n      <td>1741.850000</td>\n    </tr>\n    <tr>\n      <th>max</th>\n      <td>4.527991e+09</td>\n      <td>1.000000</td>\n      <td>250.000000</td>\n      <td>27.000000</td>\n      <td>1.000000</td>\n      <td>22.000000</td>\n      <td>22.000000</td>\n      <td>29.000000</td>\n      <td>2.000000</td>\n      <td>1.000000</td>\n      <td>...</td>\n      <td>2.000000</td>\n      <td>22732.000000</td>\n      <td>8.200000</td>\n      <td>22269.000000</td>\n      <td>289.000000</td>\n      <td>92.000000</td>\n      <td>10830.000000</td>\n      <td>9333.000000</td>\n      <td>28.900000</td>\n      <td>2273.200000</td>\n    </tr>\n  </tbody>\n</table>\n<p>8 rows × 40 columns</p>\n</div>"
     },
     "execution_count": 1,
     "metadata": {},
     "output_type": "execute_result"
    },
    {
     "data": {
      "text/plain": "             gameId     blueWins  blueWardsPlaced  blueWardsDestroyed  \\\ncount  9.879000e+03  9879.000000      9879.000000         9879.000000   \nmean   4.500084e+09     0.499038        22.288288            2.824881   \nstd    2.757328e+07     0.500024        18.019177            2.174998   \nmin    4.295358e+09     0.000000         5.000000            0.000000   \n25%    4.483301e+09     0.000000        14.000000            1.000000   \n50%    4.510920e+09     0.000000        16.000000            3.000000   \n75%    4.521733e+09     1.000000        20.000000            4.000000   \nmax    4.527991e+09     1.000000       250.000000           27.000000   \n\n       blueFirstBlood    blueKills   blueDeaths  blueAssists  \\\ncount     9879.000000  9879.000000  9879.000000  9879.000000   \nmean         0.504808     6.183925     6.137666     6.645106   \nstd          0.500002     3.011028     2.933818     4.064520   \nmin          0.000000     0.000000     0.000000     0.000000   \n25%          0.000000     4.000000     4.000000     4.000000   \n50%          1.000000     6.000000     6.000000     6.000000   \n75%          1.000000     8.000000     8.000000     9.000000   \nmax          1.000000    22.000000    22.000000    29.000000   \n\n       blueEliteMonsters  blueDragons  ...  redTowersDestroyed  redTotalGold  \\\ncount        9879.000000  9879.000000  ...         9879.000000   9879.000000   \nmean            0.549954     0.361980  ...            0.043021  16489.041401   \nstd             0.625527     0.480597  ...            0.216900   1490.888406   \nmin             0.000000     0.000000  ...            0.000000  11212.000000   \n25%             0.000000     0.000000  ...            0.000000  15427.500000   \n50%             0.000000     0.000000  ...            0.000000  16378.000000   \n75%             1.000000     1.000000  ...            0.000000  17418.500000   \nmax             2.000000     1.000000  ...            2.000000  22732.000000   \n\n       redAvgLevel  redTotalExperience  redTotalMinionsKilled  \\\ncount  9879.000000         9879.000000            9879.000000   \nmean      6.925316        17961.730438             217.349226   \nstd       0.305311         1198.583912              21.911668   \nmin       4.800000        10465.000000             107.000000   \n25%       6.800000        17209.500000             203.000000   \n50%       7.000000        17974.000000             218.000000   \n75%       7.200000        18764.500000             233.000000   \nmax       8.200000        22269.000000             289.000000   \n\n       redTotalJungleMinionsKilled   redGoldDiff  redExperienceDiff  \\\ncount                  9879.000000   9879.000000        9879.000000   \nmean                     51.313088    -14.414111          33.620306   \nstd                      10.027885   2453.349179        1920.370438   \nmin                       4.000000 -11467.000000       -8348.000000   \n25%                      44.000000  -1596.000000       -1212.000000   \n50%                      51.000000    -14.000000          28.000000   \n75%                      57.000000   1585.500000        1290.500000   \nmax                      92.000000  10830.000000        9333.000000   \n\n       redCSPerMin  redGoldPerMin  \ncount  9879.000000    9879.000000  \nmean     21.734923    1648.904140  \nstd       2.191167     149.088841  \nmin      10.700000    1121.200000  \n25%      20.300000    1542.750000  \n50%      21.800000    1637.800000  \n75%      23.300000    1741.850000  \nmax      28.900000    2273.200000  \n\n[8 rows x 40 columns]",
      "text/html": "<div>\n<style scoped>\n    .dataframe tbody tr th:only-of-type {\n        vertical-align: middle;\n    }\n\n    .dataframe tbody tr th {\n        vertical-align: top;\n    }\n\n    .dataframe thead th {\n        text-align: right;\n    }\n</style>\n<table border=\"1\" class=\"dataframe\">\n  <thead>\n    <tr style=\"text-align: right;\">\n      <th></th>\n      <th>gameId</th>\n      <th>blueWins</th>\n      <th>blueWardsPlaced</th>\n      <th>blueWardsDestroyed</th>\n      <th>blueFirstBlood</th>\n      <th>blueKills</th>\n      <th>blueDeaths</th>\n      <th>blueAssists</th>\n      <th>blueEliteMonsters</th>\n      <th>blueDragons</th>\n      <th>...</th>\n      <th>redTowersDestroyed</th>\n      <th>redTotalGold</th>\n      <th>redAvgLevel</th>\n      <th>redTotalExperience</th>\n      <th>redTotalMinionsKilled</th>\n      <th>redTotalJungleMinionsKilled</th>\n      <th>redGoldDiff</th>\n      <th>redExperienceDiff</th>\n      <th>redCSPerMin</th>\n      <th>redGoldPerMin</th>\n    </tr>\n  </thead>\n  <tbody>\n    <tr>\n      <th>count</th>\n      <td>9.879000e+03</td>\n      <td>9879.000000</td>\n      <td>9879.000000</td>\n      <td>9879.000000</td>\n      <td>9879.000000</td>\n      <td>9879.000000</td>\n      <td>9879.000000</td>\n      <td>9879.000000</td>\n      <td>9879.000000</td>\n      <td>9879.000000</td>\n      <td>...</td>\n      <td>9879.000000</td>\n      <td>9879.000000</td>\n      <td>9879.000000</td>\n      <td>9879.000000</td>\n      <td>9879.000000</td>\n      <td>9879.000000</td>\n      <td>9879.000000</td>\n      <td>9879.000000</td>\n      <td>9879.000000</td>\n      <td>9879.000000</td>\n    </tr>\n    <tr>\n      <th>mean</th>\n      <td>4.500084e+09</td>\n      <td>0.499038</td>\n      <td>22.288288</td>\n      <td>2.824881</td>\n      <td>0.504808</td>\n      <td>6.183925</td>\n      <td>6.137666</td>\n      <td>6.645106</td>\n      <td>0.549954</td>\n      <td>0.361980</td>\n      <td>...</td>\n      <td>0.043021</td>\n      <td>16489.041401</td>\n      <td>6.925316</td>\n      <td>17961.730438</td>\n      <td>217.349226</td>\n      <td>51.313088</td>\n      <td>-14.414111</td>\n      <td>33.620306</td>\n      <td>21.734923</td>\n      <td>1648.904140</td>\n    </tr>\n    <tr>\n      <th>std</th>\n      <td>2.757328e+07</td>\n      <td>0.500024</td>\n      <td>18.019177</td>\n      <td>2.174998</td>\n      <td>0.500002</td>\n      <td>3.011028</td>\n      <td>2.933818</td>\n      <td>4.064520</td>\n      <td>0.625527</td>\n      <td>0.480597</td>\n      <td>...</td>\n      <td>0.216900</td>\n      <td>1490.888406</td>\n      <td>0.305311</td>\n      <td>1198.583912</td>\n      <td>21.911668</td>\n      <td>10.027885</td>\n      <td>2453.349179</td>\n      <td>1920.370438</td>\n      <td>2.191167</td>\n      <td>149.088841</td>\n    </tr>\n    <tr>\n      <th>min</th>\n      <td>4.295358e+09</td>\n      <td>0.000000</td>\n      <td>5.000000</td>\n      <td>0.000000</td>\n      <td>0.000000</td>\n      <td>0.000000</td>\n      <td>0.000000</td>\n      <td>0.000000</td>\n      <td>0.000000</td>\n      <td>0.000000</td>\n      <td>...</td>\n      <td>0.000000</td>\n      <td>11212.000000</td>\n      <td>4.800000</td>\n      <td>10465.000000</td>\n      <td>107.000000</td>\n      <td>4.000000</td>\n      <td>-11467.000000</td>\n      <td>-8348.000000</td>\n      <td>10.700000</td>\n      <td>1121.200000</td>\n    </tr>\n    <tr>\n      <th>25%</th>\n      <td>4.483301e+09</td>\n      <td>0.000000</td>\n      <td>14.000000</td>\n      <td>1.000000</td>\n      <td>0.000000</td>\n      <td>4.000000</td>\n      <td>4.000000</td>\n      <td>4.000000</td>\n      <td>0.000000</td>\n      <td>0.000000</td>\n      <td>...</td>\n      <td>0.000000</td>\n      <td>15427.500000</td>\n      <td>6.800000</td>\n      <td>17209.500000</td>\n      <td>203.000000</td>\n      <td>44.000000</td>\n      <td>-1596.000000</td>\n      <td>-1212.000000</td>\n      <td>20.300000</td>\n      <td>1542.750000</td>\n    </tr>\n    <tr>\n      <th>50%</th>\n      <td>4.510920e+09</td>\n      <td>0.000000</td>\n      <td>16.000000</td>\n      <td>3.000000</td>\n      <td>1.000000</td>\n      <td>6.000000</td>\n      <td>6.000000</td>\n      <td>6.000000</td>\n      <td>0.000000</td>\n      <td>0.000000</td>\n      <td>...</td>\n      <td>0.000000</td>\n      <td>16378.000000</td>\n      <td>7.000000</td>\n      <td>17974.000000</td>\n      <td>218.000000</td>\n      <td>51.000000</td>\n      <td>-14.000000</td>\n      <td>28.000000</td>\n      <td>21.800000</td>\n      <td>1637.800000</td>\n    </tr>\n    <tr>\n      <th>75%</th>\n      <td>4.521733e+09</td>\n      <td>1.000000</td>\n      <td>20.000000</td>\n      <td>4.000000</td>\n      <td>1.000000</td>\n      <td>8.000000</td>\n      <td>8.000000</td>\n      <td>9.000000</td>\n      <td>1.000000</td>\n      <td>1.000000</td>\n      <td>...</td>\n      <td>0.000000</td>\n      <td>17418.500000</td>\n      <td>7.200000</td>\n      <td>18764.500000</td>\n      <td>233.000000</td>\n      <td>57.000000</td>\n      <td>1585.500000</td>\n      <td>1290.500000</td>\n      <td>23.300000</td>\n      <td>1741.850000</td>\n    </tr>\n    <tr>\n      <th>max</th>\n      <td>4.527991e+09</td>\n      <td>1.000000</td>\n      <td>250.000000</td>\n      <td>27.000000</td>\n      <td>1.000000</td>\n      <td>22.000000</td>\n      <td>22.000000</td>\n      <td>29.000000</td>\n      <td>2.000000</td>\n      <td>1.000000</td>\n      <td>...</td>\n      <td>2.000000</td>\n      <td>22732.000000</td>\n      <td>8.200000</td>\n      <td>22269.000000</td>\n      <td>289.000000</td>\n      <td>92.000000</td>\n      <td>10830.000000</td>\n      <td>9333.000000</td>\n      <td>28.900000</td>\n      <td>2273.200000</td>\n    </tr>\n  </tbody>\n</table>\n<p>8 rows × 40 columns</p>\n</div>"
     },
     "execution_count": 2,
     "metadata": {},
     "output_type": "execute_result"
    }
   ],
   "source": [
    "import pandas as pd\n",
    "\n",
    "data = pd.read_csv('lol.csv')\n",
    "data.describe()"
   ],
   "metadata": {
    "collapsed": false,
    "pycharm": {
     "name": "#%%\n"
    }
   }
  },
  {
   "cell_type": "markdown",
   "source": [
    "## Data Cleaning\n",
    "\n",
    "Die Korrelationskoeffizienten sind *interessant*"
   ],
   "metadata": {
    "collapsed": false,
    "pycharm": {
     "name": "#%% md\n"
    }
   }
  },
  {
   "cell_type": "code",
   "execution_count": 3,
   "outputs": [
    {
     "data": {
      "text/plain": "blueWins                        1.000000\nredGoldDiff                     0.511119\nblueGoldDiff                    0.511119\nredExperienceDiff               0.489558\nblueExperienceDiff              0.489558\nblueTotalGold                   0.417213\nblueGoldPerMin                  0.417213\nredTotalGold                    0.411396\nredGoldPerMin                   0.411396\nblueTotalExperience             0.396141\nredTotalExperience              0.387588\nblueAvgLevel                    0.357820\nredAvgLevel                     0.352127\nblueDeaths                      0.339297\nredKills                        0.339297\nblueKills                       0.337358\nredDeaths                       0.337358\nblueAssists                     0.276685\nredAssists                      0.271047\nblueCSPerMin                    0.224909\nblueTotalMinionsKilled          0.224909\nblueEliteMonsters               0.221944\nredEliteMonsters                0.221551\nblueDragons                     0.213768\nredTotalMinionsKilled           0.212171\nredCSPerMin                     0.212171\nredDragons                      0.209516\nredFirstBlood                   0.201769\nblueFirstBlood                  0.201769\nblueTotalJungleMinionsKilled    0.131445\nblueTowersDestroyed             0.115566\nredTotalJungleMinionsKilled     0.110994\nredTowersDestroyed              0.103696\nredHeralds                      0.097172\nblueHeralds                     0.092385\nredWardsDestroyed               0.055400\nblueWardsDestroyed              0.044247\nredWardsPlaced                  0.023671\nblueWardsPlaced                 0.000087\nName: blueWins, dtype: float64"
     },
     "execution_count": 3,
     "metadata": {},
     "output_type": "execute_result"
    },
    {
     "data": {
      "text/plain": "<Figure size 432x288 with 2 Axes>",
      "image/png": "[encoded data removed]"
     },
     "metadata": {
      "needs_background": "light"
     },
     "output_type": "display_data"
    }
   ],
   "source": [
    "import seaborn as sns\n",
    "\n",
    "data = data.drop(['gameId'], axis=1)\n",
    "data = data.dropna()\n",
    "sns.heatmap(data.corr())\n",
    "data.corr()[\"blueWins\"].apply(lambda x: abs(x)).sort_values(ascending=False)"
   ],
   "metadata": {
    "collapsed": false,
    "pycharm": {
     "name": "#%%\n"
    }
   }
  },
  {
   "cell_type": "markdown",
   "source": [
    "## Training\n",
    "* 20% Testdaten\n",
    "* `random_state=42` sofern unterstützt\n",
    "* target feature: `blueWins`\n",
    "* Ziel: score von 0.72"
   ],
   "metadata": {
    "collapsed": false,
    "pycharm": {
     "name": "#%% md\n"
    }
   }
  },
  {
   "cell_type": "code",
   "execution_count": 4,
   "outputs": [],
   "source": [
    "from sklearn.model_selection import train_test_split\n",
    "\n",
    "RANDOM_STATE = 42\n",
    "\n",
    "X = data.drop(['blueWins'], axis=1)\n",
    "y = data['blueWins']\n",
    "X_train, X_test, y_train, y_test = train_test_split(X, y, test_size=0.2, random_state=RANDOM_STATE)"
   ],
   "metadata": {
    "collapsed": false,
    "pycharm": {
     "name": "#%%\n"
    }
   }
  },
  {
   "cell_type": "code",
   "execution_count": 5,
   "outputs": [
    {
     "data": {
      "text/plain": "0.25750507304949477"
     },
     "execution_count": 5,
     "metadata": {},
     "output_type": "execute_result"
    }
   ],
   "source": [
    "#Random Forest Regression\n",
    "from sklearn.ensemble import RandomForestRegressor\n",
    "\n",
    "model_forest = RandomForestRegressor(n_estimators=100, random_state=RANDOM_STATE)\n",
    "model_forest.fit(X_train, y_train)\n",
    "model_forest.score(X_test, y_test)"
   ],
   "metadata": {
    "collapsed": false,
    "pycharm": {
     "name": "#%%\n"
    }
   }
  },
  {
   "cell_type": "code",
   "execution_count": 6,
   "outputs": [
    {
     "data": {
      "text/plain": "0.29074246139743476"
     },
     "execution_count": 6,
     "metadata": {},
     "output_type": "execute_result"
    }
   ],
   "source": [
    "#Linear Regression\n",
    "from sklearn.linear_model import LinearRegression\n",
    "\n",
    "model_linear = LinearRegression()\n",
    "model_linear.fit(X_train, y_train)\n",
    "model_linear.score(X_test, y_test)"
   ],
   "metadata": {
    "collapsed": false,
    "pycharm": {
     "name": "#%%\n"
    }
   }
  },
  {
   "cell_type": "code",
   "execution_count": 7,
   "outputs": [
    {
     "data": {
      "text/plain": "0.6325910931174089"
     },
     "execution_count": 7,
     "metadata": {},
     "output_type": "execute_result"
    }
   ],
   "source": [
    "#Decision Tree Classifier\n",
    "from sklearn.tree import DecisionTreeClassifier\n",
    "\n",
    "model_tree = DecisionTreeClassifier(random_state=RANDOM_STATE)\n",
    "model_tree.fit(X_train, y_train)\n",
    "model_tree.score(X_test, y_test)"
   ],
   "metadata": {
    "collapsed": false,
    "pycharm": {
     "name": "#%%\n"
    }
   }
  },
  {
   "cell_type": "code",
   "execution_count": 8,
   "outputs": [
    {
     "data": {
      "text/plain": "0.673582995951417"
     },
     "execution_count": 8,
     "metadata": {},
     "output_type": "execute_result"
    }
   ],
   "source": [
    "#K-Nearest Neighbors\n",
    "from sklearn.neighbors import KNeighborsClassifier\n",
    "\n",
    "model_knn = KNeighborsClassifier(n_neighbors=3)\n",
    "model_knn.fit(X_train, y_train)\n",
    "model_knn.score(X_test, y_test)"
   ],
   "metadata": {
    "collapsed": false,
    "pycharm": {
     "name": "#%%\n"
    }
   }
  },
  {
   "cell_type": "code",
   "execution_count": 9,
   "outputs": [],
   "source": [
    "#Scale the data for better results in K-Nearest Neighbors\n",
    "from sklearn.preprocessing import StandardScaler\n",
    "\n",
    "scaler = StandardScaler()\n",
    "X_train_scaled = scaler.fit_transform(X_train)\n",
    "X_test_scaled = scaler.transform(X_test)"
   ],
   "metadata": {
    "collapsed": false,
    "pycharm": {
     "name": "#%%\n"
    }
   }
  },
  {
   "cell_type": "code",
   "execution_count": 10,
   "outputs": [
    {
     "data": {
      "text/plain": "0.680668016194332"
     },
     "execution_count": 10,
     "metadata": {},
     "output_type": "execute_result"
    }
   ],
   "source": [
    "#K-Nearest Neighbors but with scaled data\n",
    "model_knn_scaled = KNeighborsClassifier(n_neighbors=3)\n",
    "model_knn_scaled.fit(X_train_scaled, y_train)\n",
    "model_knn_scaled.score(X_test_scaled, y_test)"
   ],
   "metadata": {
    "collapsed": false,
    "pycharm": {
     "name": "#%%\n"
    }
   }
  },
  {
   "cell_type": "code",
   "execution_count": 11,
   "outputs": [
    {
     "name": "stdout",
     "output_type": "stream",
     "text": [
      "Bestes K: 17\n",
      "Score: 0.7408924689937348\n"
     ]
    },
    {
     "data": {
      "text/plain": "<Figure size 432x288 with 1 Axes>",
      "image/png": "[encoded data removed]"
     },
     "metadata": {
      "needs_background": "light"
     },
     "output_type": "display_data"
    }
   ],
   "source": [
    "#K-Nearest Neighbors but with scaled data and hyperparameter tuning\n",
    "from sklearn.model_selection import cross_val_score\n",
    "\n",
    "NEIGHBORS_MAX = 32\n",
    "\n",
    "model_knn_scaled_scores = {}\n",
    "for k in range(1, NEIGHBORS_MAX, 2):\n",
    "    model_knn_scaled = KNeighborsClassifier(n_neighbors=k)\n",
    "    model_knn_scaled.fit(X_train_scaled, y_train)\n",
    "    model_knn_scaled_scores[k] = cross_val_score(model_knn_scaled, X_test_scaled, y_test).mean()\n",
    "\n",
    "sns.lineplot(x=range(1, NEIGHBORS_MAX, 2), y=model_knn_scaled_scores.values())\n",
    "model_knn_scaled_max_k = max(model_knn_scaled_scores, key=model_knn_scaled_scores.get)\n",
    "print(\"Bestes K:\", model_knn_scaled_max_k)\n",
    "print(\"Score:\", model_knn_scaled_scores[model_knn_scaled_max_k])\n"
   ],
   "metadata": {
    "collapsed": false,
    "pycharm": {
     "name": "#%%\n"
    }
   }
  },
  {
   "cell_type": "code",
   "execution_count": 12,
   "outputs": [
    {
     "data": {
      "text/plain": "0.7186234817813765"
     },
     "execution_count": 12,
     "metadata": {},
     "output_type": "execute_result"
    }
   ],
   "source": [
    "model_knn_scaled = KNeighborsClassifier(n_neighbors=model_knn_scaled_max_k)\n",
    "model_knn_scaled.fit(X_train_scaled, y_train)\n",
    "model_knn_scaled.score(X_test_scaled, y_test)"
   ],
   "metadata": {
    "collapsed": false,
    "pycharm": {
     "name": "#%%\n"
    }
   }
  },
  {
   "cell_type": "code",
   "execution_count": 13,
   "outputs": [
    {
     "data": {
      "text/plain": "0.7241902834008097"
     },
     "execution_count": 13,
     "metadata": {},
     "output_type": "execute_result"
    }
   ],
   "source": [
    "#Supported Vector Classification\n",
    "from sklearn.svm import SVC\n",
    "\n",
    "model_svc = SVC()\n",
    "model_svc.fit(X_train_scaled, y_train)\n",
    "model_svc.score(X_test_scaled, y_test)"
   ],
   "metadata": {
    "collapsed": false,
    "pycharm": {
     "name": "#%%\n"
    }
   }
  },
  {
   "cell_type": "code",
   "execution_count": 14,
   "outputs": [
    {
     "name": "stdout",
     "output_type": "stream",
     "text": [
      "Best params: {'C': 0.1, 'class_weight': 'balanced', 'gamma': 0.01}\n"
     ]
    }
   ],
   "source": [
    "#Support Vector Classification with hyperparameter tuning\n",
    "from sklearn.model_selection import GridSearchCV\n",
    "\n",
    "svc_search = GridSearchCV(estimator=SVC(),\n",
    "                      param_grid={'C': [0.1, 1, 10],\n",
    "                                  'gamma': [0.01, 0.1, 1],\n",
    "                                  'class_weight': [None, \"balanced\"]},\n",
    "                      n_jobs=-1)\n",
    "svc_search.fit(X_train_scaled, y_train)\n",
    "print(\"Best params:\" , svc_search.best_params_)"
   ],
   "metadata": {
    "collapsed": false,
    "pycharm": {
     "name": "#%%\n"
    }
   }
  },
  {
   "cell_type": "code",
   "execution_count": 15,
   "outputs": [
    {
     "data": {
      "text/plain": "0.7272267206477733"
     },
     "execution_count": 15,
     "metadata": {},
     "output_type": "execute_result"
    }
   ],
   "source": [
    "best_C= svc_search.best_params_['C']\n",
    "best_gamma= svc_search.best_params_['gamma']\n",
    "best_class_weight= svc_search.best_params_['class_weight']\n",
    "model_svc = SVC(C=best_C, gamma=best_gamma, class_weight=best_class_weight)\n",
    "model_svc.fit(X_train_scaled, y_train)\n",
    "model_svc.score(X_test_scaled, y_test)\n"
   ],
   "metadata": {
    "collapsed": false,
    "pycharm": {
     "name": "#%%\n"
    }
   }
  },
  {
   "cell_type": "markdown",
   "source": [
    "# Summary of the results"
   ],
   "metadata": {
    "collapsed": false,
    "pycharm": {
     "name": "#%% md\n"
    }
   }
  },
  {
   "cell_type": "code",
   "execution_count": 17,
   "outputs": [
    {
     "name": "stdout",
     "output_type": "stream",
     "text": [
      "Random Forest Regression:         0.25750507304949477\n",
      "Linear Regression:                0.29074246139743476\n",
      "Decision Tree Classifier:         0.6325910931174089\n",
      "K-Nearest Neighbors:              0.673582995951417\n",
      "K-Nearest Neighbors scaled:       0.7186234817813765\n",
      "Support Vector Classification:    0.7272267206477733\n"
     ]
    }
   ],
   "source": [
    "print(\"Random Forest Regression:        \", model_forest.score(X_test, y_test))\n",
    "print(\"Linear Regression:               \", model_linear.score(X_test, y_test))\n",
    "print(\"Decision Tree Classifier:        \", model_tree.score(X_test, y_test))\n",
    "print(\"K-Nearest Neighbors:             \", model_knn.score(X_test, y_test))\n",
    "print(\"K-Nearest Neighbors scaled:      \", model_knn_scaled.score(X_test_scaled, y_test))\n",
    "print(\"Support Vector Classification:   \", model_svc.score(X_test_scaled, y_test))"
   ],
   "metadata": {
    "collapsed": false,
    "pycharm": {
     "name": "#%%\n"
    }
   }
  }
 ],
 "metadata": {
  "kernelspec": {
   "display_name": "Python 3",
   "language": "python",
   "name": "python3"
  },
  "language_info": {
   "codemirror_mode": {
    "name": "ipython",
    "version": 2
   },
   "file_extension": ".py",
   "mimetype": "text/x-python",
   "name": "python",
   "nbconvert_exporter": "python",
   "pygments_lexer": "ipython2",
   "version": "2.7.6"
  }
 },
 "nbformat": 4,
 "nbformat_minor": 0
}